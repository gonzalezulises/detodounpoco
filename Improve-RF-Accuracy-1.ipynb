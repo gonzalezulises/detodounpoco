{
 "cells": [
  {
   "cell_type": "markdown",
   "id": "3c723ed4",
   "metadata": {},
   "source": [
    "# Daily Dose of Data Science\n",
    "\n",
    "The notebook accompanies the code for improving the performance of Random Forest Model. \n",
    "\n",
    "[Reduce Trees in Random Forest Model](https://blog.dailydoseofds.com/p/reduce-trees-in-random-forest-model)\n",
    "\n",
    "Author: Avi Chawla"
   ]
  },
  {
   "cell_type": "code",
   "execution_count": null,
   "id": "87db1371",
   "metadata": {},
   "outputs": [],
   "source": [
    "import seaborn as sns\n",
    "import copy\n",
    "import numpy as np\n",
    "import matplotlib.pyplot as plt\n",
    "from sklearn.datasets import make_classification\n",
    "from sklearn.ensemble import RandomForestClassifier\n",
    "\n",
    "import warnings\n",
    "warnings.filterwarnings(\"ignore\")\n",
    "\n",
    "sns.set()"
   ]
  },
  {
   "cell_type": "code",
   "execution_count": null,
   "id": "6ca8db73",
   "metadata": {},
   "outputs": [],
   "source": [
    "colors = ['#fe7c73', '#2471A3', '#3498DB', '#27AE60', '#82E0AA', '#D35400', '#5D6D7E', '#E74C3C', '#21618C', '#B7950B', '#46C7C7', '#00B9FF', '#FF7051', \"orange\", \"darkorange\", \"tomato\", \"coral\", \"limegreen\", \"lightsalmon\"]"
   ]
  },
  {
   "cell_type": "markdown",
   "id": "8374690a",
   "metadata": {},
   "source": [
    "## Create dataset"
   ]
  },
  {
   "cell_type": "code",
   "execution_count": null,
   "id": "9085c56a",
   "metadata": {},
   "outputs": [],
   "source": [
    "# Generate some synthetic data to train the decision tree on\n",
    "X, y = make_classification(\n",
    "    n_samples=1500, \n",
    "    n_features=2, \n",
    "    n_clusters_per_class=1,\n",
    "    n_informative=2, class_sep=0.5,\n",
    "    n_redundant=0,\n",
    "    n_repeated=0\n",
    ")\n",
    "\n",
    "fig, ax = plt.subplots()\n",
    "plt.scatter(X[:, 0], X[:, 1], c=[colors[i] for i in y])\n",
    "ax.set_xticklabels([])\n",
    "ax.set_yticklabels([])\n",
    "plt.show()\n",
    "\n",
    "X_train, X_test, X_final = X[:1000], X[1000:1300], X[1300:]\n",
    "y_train, y_test, y_final = y[:1000], y[1000:1300], y[1300:]"
   ]
  },
  {
   "cell_type": "markdown",
   "id": "97293c02",
   "metadata": {},
   "source": [
    "## Train Random Forest Model"
   ]
  },
  {
   "cell_type": "code",
   "execution_count": null,
   "id": "1ac6421e",
   "metadata": {},
   "outputs": [],
   "source": [
    "model = RandomForestClassifier(max_features=\"sqrt\", max_samples=0.8, n_estimators=100, random_state=42)\n",
    "model.fit(X_train, y_train)"
   ]
  },
  {
   "cell_type": "code",
   "execution_count": null,
   "id": "29db561d",
   "metadata": {},
   "outputs": [],
   "source": [
    "model.score(X_test, y_test)"
   ]
  },
  {
   "cell_type": "code",
   "execution_count": null,
   "id": "08060fad",
   "metadata": {},
   "outputs": [],
   "source": [
    "model_accs = [] # list to store accuracies\n",
    "\n",
    "for idx, tree in enumerate(model.estimators_):\n",
    "\n",
    "    score = tree.score(X_test, y_test) # find accuracy\n",
    "    model_accs.append([idx, score]) # store accuracy\n",
    "    \n",
    "model_accs = np.array(model_accs)"
   ]
  },
  {
   "cell_type": "code",
   "execution_count": null,
   "id": "6cf52aaf",
   "metadata": {},
   "outputs": [],
   "source": [
    "sorted_indices = np.argsort(model_accs[:, 1])[::-1]\n",
    "\n",
    "# Rearrange the rows of the array based on the sorted indices\n",
    "model_ids = model_accs[sorted_indices][:,0].astype(int)"
   ]
  },
  {
   "cell_type": "code",
   "execution_count": null,
   "id": "faec43b1",
   "metadata": {},
   "outputs": [],
   "source": [
    "model.estimators_ = np.array(model.estimators_)[model_ids].tolist()"
   ]
  },
  {
   "cell_type": "code",
   "execution_count": null,
   "id": "c4f60177",
   "metadata": {},
   "outputs": [],
   "source": [
    "result = []\n",
    "total_models = len(model.estimators_) \n",
    "for i in range(2, total_models):\n",
    "    \n",
    "    small_model = copy.deepcopy(model)\n",
    "    \n",
    "    small_model.estimators_ = model.estimators_[:i]\n",
    "    result.append([i, small_model.score(X_test, y_test), small_model.score(X_final, y_final), small_model.score(X_train, y_train)])\n",
    "    \n",
    "result = np.array(result)"
   ]
  },
  {
   "cell_type": "code",
   "execution_count": null,
   "id": "fe40dd08",
   "metadata": {},
   "outputs": [],
   "source": [
    "max_index = np.argmax(result[:, 1])\n",
    "max_index"
   ]
  },
  {
   "cell_type": "code",
   "execution_count": null,
   "id": "063bf0b2",
   "metadata": {
    "scrolled": false
   },
   "outputs": [],
   "source": [
    "fig, ax = plt.subplots()\n",
    "ax.plot(result[:, 0], result[:, 1], c = colors[0], label=\"Validation\")\n",
    "# ax.plot(result[:, 0], result[:, 2], c = colors[3], label=\"Test\")\n",
    "ax.plot(result[:, 0], result[:, 3], c = colors[11], label=\"Train\")\n",
    "\n",
    "\n",
    "ax.axvline(x=result[max_index][0], ymax=0.95, ls = \"--\")\n",
    "plt.scatter([result[max_index][0],], [result[max_index][1],], zorder=0, s=60, c = colors[1])\n",
    "ax.set_xlabel(\"Number of Trees\", fontsize = 15, fontweight = \"bold\")\n",
    "ax.set_ylabel(\"Random Forest accuracy\", fontsize = 15, fontweight = \"bold\")\n",
    "ax.set_title(\"Cumulative accuracy plot\", fontsize = 20, fontweight = \"bold\")\n",
    "plt.legend()\n",
    "# plt.savefig(\"Cumulative_acc1.jpeg\", dpi = 600, bbox_inches = \"tight\")\n",
    "plt.show()"
   ]
  },
  {
   "cell_type": "markdown",
   "id": "48c5c2a7",
   "metadata": {},
   "source": [
    "## Create final model"
   ]
  },
  {
   "cell_type": "code",
   "execution_count": null,
   "id": "a75fd0fe",
   "metadata": {},
   "outputs": [],
   "source": [
    "small_model = copy.deepcopy(model)\n",
    "\n",
    "small_model.estimators_ = model.estimators_[:int(result[max_index][0])]"
   ]
  },
  {
   "cell_type": "markdown",
   "id": "3af98ae0",
   "metadata": {},
   "source": [
    "### RF Model with 100 trees"
   ]
  },
  {
   "cell_type": "code",
   "execution_count": null,
   "id": "bd947230",
   "metadata": {},
   "outputs": [],
   "source": [
    "# Accuracy\n",
    "model.score(X_test, y_test)"
   ]
  },
  {
   "cell_type": "code",
   "execution_count": null,
   "id": "fd35b1c7",
   "metadata": {},
   "outputs": [],
   "source": [
    "model.score(X_train, y_train)"
   ]
  },
  {
   "cell_type": "code",
   "execution_count": null,
   "id": "75169668",
   "metadata": {},
   "outputs": [],
   "source": [
    "model.score(X_final, y_final)"
   ]
  },
  {
   "cell_type": "code",
   "execution_count": null,
   "id": "d4dd58ef",
   "metadata": {
    "scrolled": true
   },
   "outputs": [],
   "source": [
    "# Run-time\n",
    "%timeit model.predict(X_test)"
   ]
  },
  {
   "cell_type": "markdown",
   "id": "b910bf4d",
   "metadata": {},
   "source": [
    "### RF Model with top trees "
   ]
  },
  {
   "cell_type": "code",
   "execution_count": null,
   "id": "45129544",
   "metadata": {},
   "outputs": [],
   "source": [
    "# Accuracy\n",
    "small_model.score(X_test, y_test)"
   ]
  },
  {
   "cell_type": "code",
   "execution_count": null,
   "id": "db982a6f",
   "metadata": {},
   "outputs": [],
   "source": [
    "small_model.score(X_train, y_train)"
   ]
  },
  {
   "cell_type": "code",
   "execution_count": null,
   "id": "3f2979b0",
   "metadata": {},
   "outputs": [],
   "source": [
    "small_model.score(X_final, y_final)"
   ]
  },
  {
   "cell_type": "code",
   "execution_count": null,
   "id": "e8b51bc2",
   "metadata": {},
   "outputs": [],
   "source": [
    "# Run-time\n",
    "%timeit small_model.predict(X_test)"
   ]
  },
  {
   "cell_type": "code",
   "execution_count": null,
   "id": "97e06005",
   "metadata": {},
   "outputs": [],
   "source": [
    "4.69/0.358"
   ]
  },
  {
   "cell_type": "code",
   "execution_count": null,
   "id": "0471382b",
   "metadata": {},
   "outputs": [],
   "source": [
    "scr"
   ]
  }
 ],
 "metadata": {
  "kernelspec": {
   "display_name": "Python 3 (ipykernel)",
   "language": "python",
   "name": "python3"
  },
  "language_info": {
   "codemirror_mode": {
    "name": "ipython",
    "version": 3
   },
   "file_extension": ".py",
   "mimetype": "text/x-python",
   "name": "python",
   "nbconvert_exporter": "python",
   "pygments_lexer": "ipython3",
   "version": "3.9.13"
  },
  "toc": {
   "base_numbering": 1,
   "nav_menu": {},
   "number_sections": false,
   "sideBar": true,
   "skip_h1_title": false,
   "title_cell": "Table of Contents",
   "title_sidebar": "Contents",
   "toc_cell": false,
   "toc_position": {},
   "toc_section_display": true,
   "toc_window_display": true
  }
 },
 "nbformat": 4,
 "nbformat_minor": 5
}
